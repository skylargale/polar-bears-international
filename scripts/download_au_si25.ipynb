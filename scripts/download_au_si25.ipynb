{
 "cells": [
  {
   "cell_type": "code",
   "execution_count": 2,
   "id": "ce8ec385-231c-41fb-950f-3988412212a5",
   "metadata": {},
   "outputs": [],
   "source": [
    "import earthaccess"
   ]
  },
  {
   "cell_type": "code",
   "execution_count": 3,
   "id": "fbb915d7-5cea-435f-825c-37355a9a281b",
   "metadata": {},
   "outputs": [
    {
     "data": {
      "text/plain": [
       "<earthaccess.auth.Auth at 0x1475cc0b9c90>"
      ]
     },
     "execution_count": 3,
     "metadata": {},
     "output_type": "execute_result"
    }
   ],
   "source": [
    "# Authenticate with Earthdata Login\n",
    "earthaccess.login(strategy=\"interactive\")"
   ]
  },
  {
   "cell_type": "code",
   "execution_count": 6,
   "id": "591daf50-8abf-4027-abd7-8140b11703af",
   "metadata": {},
   "outputs": [
    {
     "name": "stdout",
     "output_type": "stream",
     "text": [
      "Found 4806 granules\n",
      "https://n5eil01u.ecs.nsidc.org/DP1/AMSA/AU_SI25.001/2012.07.02/AMSR_U2_L3_SeaIce25km_B04_20120702.he5\n",
      "https://n5eil01u.ecs.nsidc.org/DP1/AMSA/AU_SI25.001/2012.07.03/AMSR_U2_L3_SeaIce25km_B04_20120703.he5\n",
      "https://n5eil01u.ecs.nsidc.org/DP1/AMSA/AU_SI25.001/2012.07.04/AMSR_U2_L3_SeaIce25km_B04_20120704.he5\n"
     ]
    },
    {
     "data": {
      "application/vnd.jupyter.widget-view+json": {
       "model_id": "efaa5ea9bf0f4f22965a24a0ff15de55",
       "version_major": 2,
       "version_minor": 0
      },
      "text/plain": [
       "QUEUEING TASKS | :   0%|          | 0/4806 [00:00<?, ?it/s]"
      ]
     },
     "metadata": {},
     "output_type": "display_data"
    },
    {
     "data": {
      "application/vnd.jupyter.widget-view+json": {
       "model_id": "dc7308f86f0f421cbaff55646dc0a9a6",
       "version_major": 2,
       "version_minor": 0
      },
      "text/plain": [
       "PROCESSING TASKS | :   0%|          | 0/4806 [00:00<?, ?it/s]"
      ]
     },
     "metadata": {},
     "output_type": "display_data"
    },
    {
     "data": {
      "application/vnd.jupyter.widget-view+json": {
       "model_id": "7403ff81d6174129a9f6d2872fbe23e2",
       "version_major": 2,
       "version_minor": 0
      },
      "text/plain": [
       "COLLECTING RESULTS | :   0%|          | 0/4806 [00:00<?, ?it/s]"
      ]
     },
     "metadata": {},
     "output_type": "display_data"
    },
    {
     "name": "stdout",
     "output_type": "stream",
     "text": [
      "\n",
      "✅ Download complete!\n"
     ]
    }
   ],
   "source": [
    "# Search for granules\n",
    "results = earthaccess.search_data(\n",
    "    short_name=\"AU_SI25\",\n",
    "    version=\"1\",\n",
    "    temporal=(\"2012-07-02\", \"2025-08-31\"),\n",
    "    bounding_box=(-180, 0, 180, 90),\n",
    "    cloud_hosted=False\n",
    ")\n",
    "\n",
    "# Check results\n",
    "print(f\"Found {len(results)} granules\")\n",
    "for granule in results[:3]:\n",
    "    print(granule.data_links()[0])\n",
    "\n",
    "# Download granules\n",
    "downloaded_files = earthaccess.download(results, \"/glade/work/skygale/data/AU_SI25_25km_2012_Present\")\n",
    "\n",
    "print(\"\\n✅ Download complete!\")\n"
   ]
  },
  {
   "cell_type": "code",
   "execution_count": null,
   "id": "983e9ae0-90d5-41f0-adab-348987ee2edc",
   "metadata": {},
   "outputs": [],
   "source": []
  }
 ],
 "metadata": {
  "kernelspec": {
   "display_name": "Python 3 (ipykernel)",
   "language": "python",
   "name": "python3"
  },
  "language_info": {
   "codemirror_mode": {
    "name": "ipython",
    "version": 3
   },
   "file_extension": ".py",
   "mimetype": "text/x-python",
   "name": "python",
   "nbconvert_exporter": "python",
   "pygments_lexer": "ipython3",
   "version": "3.10.13"
  }
 },
 "nbformat": 4,
 "nbformat_minor": 5
}
